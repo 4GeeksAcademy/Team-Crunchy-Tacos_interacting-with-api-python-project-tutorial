{
    "cells": [
        {
            "cell_type": "markdown",
            "metadata": {},
            "source": [
                "# Explore here"
            ]
        },
        {
            "cell_type": "code",
            "execution_count": 9,
            "metadata": {},
            "outputs": [
                {
                    "data": {
                        "text/plain": [
                            "'dd1a0db784194f79b057b2db6e01388b'"
                        ]
                    },
                    "execution_count": 9,
                    "metadata": {},
                    "output_type": "execute_result"
                }
            ],
            "source": [
                "import os\n",
                "import pandas as pd\n",
                "import requests\n",
                "#import seaborn as sns\n",
                "from dotenv import load_dotenv\n",
                "\n",
                "# load the .env file variables\n",
                "load_dotenv()\n",
                "\n",
                "import os\n",
                "\n",
                "client_id = os.environ.get(\"CLIENT_ID\")\n",
                "client_secret = os.environ.get(\"CLIENT_SECRET\")\n",
                "\n",
                "client_id\n"
            ]
        },
        {
            "cell_type": "code",
            "execution_count": 10,
            "metadata": {},
            "outputs": [
                {
                    "name": "stdout",
                    "output_type": "stream",
                    "text": [
                        "Access token obtained!\n"
                    ]
                }
            ],
            "source": [
                "import base64\n",
                "\n",
                "# Encode the client credentials\n",
                "client_credentials = f\"{client_id}:{client_secret}\"\n",
                "client_credentials_base64 = base64.b64encode(client_credentials.encode())\n",
                "\n",
                "# Prepare the token request\n",
                "token_url = \"https://accounts.spotify.com/api/token\"\n",
                "headers = {\n",
                "    \"Authorization\": f\"Basic {client_credentials_base64.decode()}\"\n",
                "}\n",
                "data = {\n",
                "    \"grant_type\": \"client_credentials\"\n",
                "}\n",
                "\n",
                "# Request access token\n",
                "response = requests.post(token_url, headers=headers, data=data)\n",
                "\n",
                "# Check if the request was successful\n",
                "if response.status_code == 200:\n",
                "    access_token = response.json()['access_token']\n",
                "    print(\"Access token obtained!\")\n",
                "else:\n",
                "    print(f\"Failed to obtain access token. Status code: {response.status_code}\")\n",
                "    print(response.text)"
            ]
        },
        {
            "cell_type": "code",
            "execution_count": 11,
            "metadata": {},
            "outputs": [
                {
                    "data": {
                        "text/plain": [
                            "'BQBQaiU88GN0mJoSwpJcb07qd5B7yWYKapEk0AOgKCfOGGND290BiJ88dG7u09W7hga8InIt7sA4tebwy7SFXFdVb1nWSbqmdNl-kO4FuHAz7RYjWkw'"
                        ]
                    },
                    "execution_count": 11,
                    "metadata": {},
                    "output_type": "execute_result"
                }
            ],
            "source": [
                "access_token"
            ]
        },
        {
            "cell_type": "code",
            "execution_count": 12,
            "metadata": {},
            "outputs": [
                {
                    "name": "stdout",
                    "output_type": "stream",
                    "text": [
                        "Found artist: The Gaslight Anthem (ID: 7If8DXZN7mlGdQkLE2FaMo)\n"
                    ]
                }
            ],
            "source": [
                "# Set the access token in the headers\n",
                "headers = {\n",
                "    \"Authorization\": f\"Bearer {'BQAo32tDkNYdIXgypNOOIps1xRUvmFzwvF09hNDKo55DInUwpq4jz5T59wZGtWoNDKmgDCzsaSVoHO_Inp_sqDK8lzuiIyen_D7TaQRPisX37oP6FEU'}\"\n",
                "}\n",
                "\n",
                "# Define the endpoint and parameters\n",
                "search_url = \"https://api.spotify.com/v1/search\"\n",
                "params = {\n",
                "    \"q\": \"The Gaslight Anthem\",  # Artist name to search for\n",
                "    \"type\": \"artist\",\n",
                "    \"limit\": 1\n",
                "}\n",
                "\n",
                "# Make the API request to search for the artist\n",
                "response = requests.get(search_url, headers=headers, params=params)\n",
                "\n",
                "# Check if the request was successful\n",
                "if response.status_code == 200:\n",
                "    response_data = response.json()\n",
                "    # print(f\"Response Data: {response_data}\")\n",
                "    artist_id = response_data['artists']['items'][0]['id']\n",
                "    artist_name = response_data['artists']['items'][0]['name']\n",
                "    print(f\"Found artist: {artist_name} (ID: {artist_id})\")\n",
                "else:\n",
                "    print(f\"Failed to search for artist. Status code: {response.status_code}\")\n",
                "    print(response.text)"
            ]
        },
        {
            "cell_type": "code",
            "execution_count": 13,
            "metadata": {},
            "outputs": [
                {
                    "name": "stdout",
                    "output_type": "stream",
                    "text": [
                        "Top tracks for The Gaslight Anthem:\n",
                        "1. \"45\" - Album: Handwritten\n",
                        "2. The '59 Sound - Album: The '59 Sound\n",
                        "3. Great Expectations - Album: The '59 Sound\n",
                        "4. Here's Lookin At You, Kid - Album: The '59 Sound\n",
                        "5. Old White Lincoln - Album: The '59 Sound\n",
                        "6. History Books (feat. Bruce Springsteen) - Album: History Books\n",
                        "7. Get Hurt - Album: Get Hurt\n",
                        "8. Ocean Eyes - Album: History Books (Expanded Edition)\n",
                        "9. Handwritten - Album: Handwritten\n",
                        "10. American Slang - Album: American Slang\n"
                    ]
                }
            ],
            "source": [
                "# Define the endpoint for the artist's top tracks\n",
                "top_tracks_url = f\"https://api.spotify.com/v1/artists/{'7If8DXZN7mlGdQkLE2FaMo'}/top-tracks\"\n",
                "params = {\n",
                "    \"market\": \"US\"  # Specify the market (country)\n",
                "}\n",
                "\n",
                "# Make the API request to get top tracks\n",
                "response = requests.get(top_tracks_url, headers=headers, params=params)\n",
                "\n",
                "# Check if the request was successful\n",
                "if response.status_code == 200:\n",
                "    top_tracks_data = response.json()\n",
                "    print(f\"Top tracks for {artist_name}:\")\n",
                "    for idx, track in enumerate(top_tracks_data['tracks'], start=1):\n",
                "        # print(f\"Track data: {track}\")\n",
                "        track_name = track['name']\n",
                "        album_name = track['album']['name']\n",
                "        print(f\"{idx}. {track_name} - Album: {album_name}\")\n",
                "else:\n",
                "    print(f\"Failed to get top tracks. Status code: {response.status_code}\")\n",
                "    print(response.text)"
            ]
        },
        {
            "cell_type": "code",
            "execution_count": 14,
            "metadata": {},
            "outputs": [
                {
                    "name": "stdout",
                    "output_type": "stream",
                    "text": [
                        "Access token obtained successfully.\n"
                    ]
                }
            ],
            "source": [
                "def get_access_token(client_id, client_secret):\n",
                "    try:\n",
                "        # Encoding and token request as before\n",
                "        client_credentials = f\"{client_id}:{client_secret}\"\n",
                "        client_credentials_base64 = base64.b64encode(client_credentials.encode())\n",
                "        token_url = \"https://accounts.spotify.com/api/token\"\n",
                "        headers = {\n",
                "            \"Authorization\": f\"Basic {client_credentials_base64.decode()}\"\n",
                "        }\n",
                "        data = {\n",
                "            \"grant_type\": \"client_credentials\"\n",
                "        }\n",
                "        response = requests.post(token_url, headers=headers, data=data)\n",
                "        response.raise_for_status()  # Raises an HTTPError for bad status codes\n",
                "        access_token = response.json()['access_token']\n",
                "        return access_token\n",
                "    except requests.exceptions.HTTPError as err:\n",
                "        print(f\"HTTP error occurred: {err}\")\n",
                "    except Exception as err:\n",
                "        print(f\"An error occurred: {err}\")\n",
                "    return None\n",
                "\n",
                "# Use the function to get the access token\n",
                "access_token = get_access_token(client_id, client_secret)\n",
                "if access_token:\n",
                "    print(\"Access token obtained successfully.\")\n",
                "else:\n",
                "    print(\"Failed to obtain access token.\")\n",
                "    "
            ]
        },
        {
            "cell_type": "code",
            "execution_count": 16,
            "metadata": {},
            "outputs": [
                {
                    "ename": "JSONDecodeError",
                    "evalue": "Expecting value: line 1 column 1 (char 0)",
                    "output_type": "error",
                    "traceback": [
                        "\u001b[0;31m---------------------------------------------------------------------------\u001b[0m",
                        "\u001b[0;31mJSONDecodeError\u001b[0m                           Traceback (most recent call last)",
                        "Cell \u001b[0;32mIn[16], line 4\u001b[0m\n\u001b[1;32m      1\u001b[0m \u001b[38;5;28;01mimport\u001b[39;00m \u001b[38;5;21;01mjson\u001b[39;00m\n\u001b[1;32m      3\u001b[0m \u001b[38;5;66;03m# Load the API response\u001b[39;00m\n\u001b[0;32m----> 4\u001b[0m data \u001b[38;5;241m=\u001b[39m \u001b[43mjson\u001b[49m\u001b[38;5;241;43m.\u001b[39;49m\u001b[43mloads\u001b[49m\u001b[43m(\u001b[49m\u001b[38;5;124;43m'\u001b[39;49m\u001b[38;5;124;43mresponse\u001b[39;49m\u001b[38;5;124;43m'\u001b[39;49m\u001b[43m)\u001b[49m\n\u001b[1;32m      6\u001b[0m \u001b[38;5;66;03m# Process tracks\u001b[39;00m\n\u001b[1;32m      7\u001b[0m most_played_tracks \u001b[38;5;241m=\u001b[39m []\n",
                        "File \u001b[0;32m/usr/local/lib/python3.11/json/__init__.py:346\u001b[0m, in \u001b[0;36mloads\u001b[0;34m(s, cls, object_hook, parse_float, parse_int, parse_constant, object_pairs_hook, **kw)\u001b[0m\n\u001b[1;32m    341\u001b[0m     s \u001b[38;5;241m=\u001b[39m s\u001b[38;5;241m.\u001b[39mdecode(detect_encoding(s), \u001b[38;5;124m'\u001b[39m\u001b[38;5;124msurrogatepass\u001b[39m\u001b[38;5;124m'\u001b[39m)\n\u001b[1;32m    343\u001b[0m \u001b[38;5;28;01mif\u001b[39;00m (\u001b[38;5;28mcls\u001b[39m \u001b[38;5;129;01mis\u001b[39;00m \u001b[38;5;28;01mNone\u001b[39;00m \u001b[38;5;129;01mand\u001b[39;00m object_hook \u001b[38;5;129;01mis\u001b[39;00m \u001b[38;5;28;01mNone\u001b[39;00m \u001b[38;5;129;01mand\u001b[39;00m\n\u001b[1;32m    344\u001b[0m         parse_int \u001b[38;5;129;01mis\u001b[39;00m \u001b[38;5;28;01mNone\u001b[39;00m \u001b[38;5;129;01mand\u001b[39;00m parse_float \u001b[38;5;129;01mis\u001b[39;00m \u001b[38;5;28;01mNone\u001b[39;00m \u001b[38;5;129;01mand\u001b[39;00m\n\u001b[1;32m    345\u001b[0m         parse_constant \u001b[38;5;129;01mis\u001b[39;00m \u001b[38;5;28;01mNone\u001b[39;00m \u001b[38;5;129;01mand\u001b[39;00m object_pairs_hook \u001b[38;5;129;01mis\u001b[39;00m \u001b[38;5;28;01mNone\u001b[39;00m \u001b[38;5;129;01mand\u001b[39;00m \u001b[38;5;129;01mnot\u001b[39;00m kw):\n\u001b[0;32m--> 346\u001b[0m     \u001b[38;5;28;01mreturn\u001b[39;00m \u001b[43m_default_decoder\u001b[49m\u001b[38;5;241;43m.\u001b[39;49m\u001b[43mdecode\u001b[49m\u001b[43m(\u001b[49m\u001b[43ms\u001b[49m\u001b[43m)\u001b[49m\n\u001b[1;32m    347\u001b[0m \u001b[38;5;28;01mif\u001b[39;00m \u001b[38;5;28mcls\u001b[39m \u001b[38;5;129;01mis\u001b[39;00m \u001b[38;5;28;01mNone\u001b[39;00m:\n\u001b[1;32m    348\u001b[0m     \u001b[38;5;28mcls\u001b[39m \u001b[38;5;241m=\u001b[39m JSONDecoder\n",
                        "File \u001b[0;32m/usr/local/lib/python3.11/json/decoder.py:337\u001b[0m, in \u001b[0;36mJSONDecoder.decode\u001b[0;34m(self, s, _w)\u001b[0m\n\u001b[1;32m    332\u001b[0m \u001b[38;5;28;01mdef\u001b[39;00m \u001b[38;5;21mdecode\u001b[39m(\u001b[38;5;28mself\u001b[39m, s, _w\u001b[38;5;241m=\u001b[39mWHITESPACE\u001b[38;5;241m.\u001b[39mmatch):\n\u001b[1;32m    333\u001b[0m \u001b[38;5;250m    \u001b[39m\u001b[38;5;124;03m\"\"\"Return the Python representation of ``s`` (a ``str`` instance\u001b[39;00m\n\u001b[1;32m    334\u001b[0m \u001b[38;5;124;03m    containing a JSON document).\u001b[39;00m\n\u001b[1;32m    335\u001b[0m \n\u001b[1;32m    336\u001b[0m \u001b[38;5;124;03m    \"\"\"\u001b[39;00m\n\u001b[0;32m--> 337\u001b[0m     obj, end \u001b[38;5;241m=\u001b[39m \u001b[38;5;28;43mself\u001b[39;49m\u001b[38;5;241;43m.\u001b[39;49m\u001b[43mraw_decode\u001b[49m\u001b[43m(\u001b[49m\u001b[43ms\u001b[49m\u001b[43m,\u001b[49m\u001b[43m \u001b[49m\u001b[43midx\u001b[49m\u001b[38;5;241;43m=\u001b[39;49m\u001b[43m_w\u001b[49m\u001b[43m(\u001b[49m\u001b[43ms\u001b[49m\u001b[43m,\u001b[49m\u001b[43m \u001b[49m\u001b[38;5;241;43m0\u001b[39;49m\u001b[43m)\u001b[49m\u001b[38;5;241;43m.\u001b[39;49m\u001b[43mend\u001b[49m\u001b[43m(\u001b[49m\u001b[43m)\u001b[49m\u001b[43m)\u001b[49m\n\u001b[1;32m    338\u001b[0m     end \u001b[38;5;241m=\u001b[39m _w(s, end)\u001b[38;5;241m.\u001b[39mend()\n\u001b[1;32m    339\u001b[0m     \u001b[38;5;28;01mif\u001b[39;00m end \u001b[38;5;241m!=\u001b[39m \u001b[38;5;28mlen\u001b[39m(s):\n",
                        "File \u001b[0;32m/usr/local/lib/python3.11/json/decoder.py:355\u001b[0m, in \u001b[0;36mJSONDecoder.raw_decode\u001b[0;34m(self, s, idx)\u001b[0m\n\u001b[1;32m    353\u001b[0m     obj, end \u001b[38;5;241m=\u001b[39m \u001b[38;5;28mself\u001b[39m\u001b[38;5;241m.\u001b[39mscan_once(s, idx)\n\u001b[1;32m    354\u001b[0m \u001b[38;5;28;01mexcept\u001b[39;00m \u001b[38;5;167;01mStopIteration\u001b[39;00m \u001b[38;5;28;01mas\u001b[39;00m err:\n\u001b[0;32m--> 355\u001b[0m     \u001b[38;5;28;01mraise\u001b[39;00m JSONDecodeError(\u001b[38;5;124m\"\u001b[39m\u001b[38;5;124mExpecting value\u001b[39m\u001b[38;5;124m\"\u001b[39m, s, err\u001b[38;5;241m.\u001b[39mvalue) \u001b[38;5;28;01mfrom\u001b[39;00m \u001b[38;5;28;01mNone\u001b[39;00m\n\u001b[1;32m    356\u001b[0m \u001b[38;5;28;01mreturn\u001b[39;00m obj, end\n",
                        "\u001b[0;31mJSONDecodeError\u001b[0m: Expecting value: line 1 column 1 (char 0)"
                    ]
                }
            ],
            "source": [
                "import json\n",
                "\n",
                "# Load the API response\n",
                "data = json.loads('response')\n",
                "\n",
                "# Process tracks\n",
                "most_played_tracks = []\n",
                "\n",
                "for track in data.get(\"tracks\", []):\n",
                "    track_info = {\n",
                "        \"name\": track[\"name\"],\n",
                "        \"popularity\": track[\"popularity\"],\n",
                "        \"duration_minutes\": track[\"duration_ms\"] / 60000  # Convert milliseconds to minutes\n",
                "    }\n",
                "    most_played_tracks.append(track_info)\n",
                "\n",
                "# Print the results\n",
                "for track in most_played_tracks:\n",
                "    print(f\"Song: {track['name']}, Popularity: {track['popularity']}, Duration: {track['duration_minutes']:.2f} minutes\")\n"
            ]
        }
    ],
    "metadata": {
        "kernelspec": {
            "display_name": "Python 3",
            "language": "python",
            "name": "python3"
        },
        "language_info": {
            "codemirror_mode": {
                "name": "ipython",
                "version": 3
            },
            "file_extension": ".py",
            "mimetype": "text/x-python",
            "name": "python",
            "nbconvert_exporter": "python",
            "pygments_lexer": "ipython3",
            "version": "3.11.4"
        },
        "orig_nbformat": 4
    },
    "nbformat": 4,
    "nbformat_minor": 2
}
